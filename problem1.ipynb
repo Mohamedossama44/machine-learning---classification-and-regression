{
 "cells": [
  {
   "cell_type": "markdown",
   "metadata": {},
   "source": [
    "Import necessary libraries and modules"
   ]
  },
  {
   "cell_type": "code",
   "execution_count": 105,
   "metadata": {},
   "outputs": [],
   "source": [
    "import pandas as pd\n",
    "import math\n",
    "from sklearn.utils import shuffle\n",
    "from sklearn.neighbors import KNeighborsClassifier\n",
    "from sklearn.model_selection import train_test_split\n",
    "from sklearn.metrics import accuracy_score, precision_score, recall_score, f1_score, confusion_matrix"
   ]
  },
  {
   "cell_type": "markdown",
   "metadata": {},
   "source": [
    "Load the dataset and set column names"
   ]
  },
  {
   "cell_type": "code",
   "execution_count": 106,
   "metadata": {},
   "outputs": [],
   "source": [
    "data = pd.read_csv(\"D:\\\\term 7\\\\intro machine learning\\\\assignment 1\\\\magic04.data\")\n",
    "column_names=['Feature1','Feature2','Feature3','Feature4','Feature5','Feature6','Feature7','Feature8','Feature9','Feature10','class']\n",
    "data.columns=column_names"
   ]
  },
  {
   "cell_type": "markdown",
   "metadata": {},
   "source": [
    "Separate the dataset into 'gamma_data' and 'hadron_data' based on the 'class' column."
   ]
  },
  {
   "cell_type": "code",
   "execution_count": 107,
   "metadata": {},
   "outputs": [],
   "source": [
    "gamma_data = data[data['class'] == 'g']\n",
    "hadron_data = data[data['class'] == 'h']"
   ]
  },
  {
   "cell_type": "markdown",
   "metadata": {},
   "source": [
    "Randomly undersample gamma events to balance the dataset"
   ]
  },
  {
   "cell_type": "code",
   "execution_count": 108,
   "metadata": {},
   "outputs": [],
   "source": [
    "gamma_data = shuffle(gamma_data, random_state=42)\n",
    "gamma_data = gamma_data.sample(n=len(hadron_data), random_state=42)"
   ]
  },
  {
   "cell_type": "markdown",
   "metadata": {},
   "source": [
    "Combine the two classes again to create a balanced dataset"
   ]
  },
  {
   "cell_type": "code",
   "execution_count": 109,
   "metadata": {},
   "outputs": [],
   "source": [
    "balanced_data = pd.concat([gamma_data, hadron_data])"
   ]
  },
  {
   "cell_type": "markdown",
   "metadata": {},
   "source": [
    "split the balanced data set into feature x and label y "
   ]
  },
  {
   "cell_type": "code",
   "execution_count": 110,
   "metadata": {},
   "outputs": [],
   "source": [
    "X = balanced_data.drop(columns=['class'])\n",
    "y = balanced_data['class']"
   ]
  },
  {
   "cell_type": "markdown",
   "metadata": {},
   "source": [
    "Split the dataset into training, validation, and test sets.\n",
    "- 70% for training\n",
    "- 15% for validation\n",
    "- 15% for testing"
   ]
  },
  {
   "cell_type": "code",
   "execution_count": 111,
   "metadata": {},
   "outputs": [],
   "source": [
    "X_train, X_temp, y_train, y_temp = train_test_split(X, y, test_size=0.3, random_state=42)\n",
    "X_val, X_test, y_val, y_test = train_test_split(X_temp, y_temp, test_size=0.5, random_state=42)"
   ]
  },
  {
   "cell_type": "markdown",
   "metadata": {},
   "source": [
    "Perform KNN classification according to different values of hyperparameter k and calculate Accuracy , ​Precision ,Recall ,F1-Score and Confusion Matrix:\n",
    "\n",
    "\n",
    "Accuracy= Number of Correct Predictions / Total Number of Predictions \n",
    "\n",
    "​Precision= TP / (TP+FP)\n",
    "\n",
    "Recall= TP/(TP+FN)\n",
    "\n",
    "F1-Score= (2⋅Precision⋅Recall) /(Precision+Recall)\n",
    "\n",
    "Confusion Matrix:\n",
    "\n",
    "                    predicted negative      predicted positive \n",
    "\n",
    "Actual negative            TP                       FP\n",
    "\n",
    "Actual positive            FN                       TN\n"
   ]
  },
  {
   "cell_type": "code",
   "execution_count": 145,
   "metadata": {},
   "outputs": [],
   "source": [
    "k_values = range(1, math.floor(math.sqrt(len(balanced_data)))+1)\n",
    "results = []\n",
    "for k in k_values:\n",
    "    knn = KNeighborsClassifier(n_neighbors=k)\n",
    "    knn.fit(X_train, y_train)\n",
    "    y_pred_val = knn.predict(X_val)\n",
    "\n",
    "    accuracy = accuracy_score(y_val, y_pred_val)\n",
    "    precision = precision_score(y_val, y_pred_val, average='weighted')\n",
    "    recall = recall_score(y_val, y_pred_val, average='weighted')\n",
    "    f1 = f1_score(y_val, y_pred_val, average='weighted')\n",
    "    cm = confusion_matrix(y_val, y_pred_val)\n",
    "\n",
    "    results.append({\n",
    "        'K': k,\n",
    "        'Accuracy': accuracy,\n",
    "        'Precision': precision,\n",
    "        'Recall': recall,\n",
    "        'F1-Score': f1,\n",
    "        'Confusion Matrix': cm\n",
    "    })"
   ]
  },
  {
   "cell_type": "markdown",
   "metadata": {},
   "source": [
    " Print and compare the results "
   ]
  },
  {
   "cell_type": "code",
   "execution_count": 146,
   "metadata": {},
   "outputs": [
    {
     "name": "stdout",
     "output_type": "stream",
     "text": [
      "K = 1:\n",
      "Accuracy: 0.7483\n",
      "-------------------------\n",
      "K = 2:\n",
      "Accuracy: 0.7343\n",
      "-------------------------\n",
      "K = 3:\n",
      "Accuracy: 0.7672\n",
      "-------------------------\n",
      "K = 4:\n",
      "Accuracy: 0.7672\n",
      "-------------------------\n",
      "K = 5:\n",
      "Accuracy: 0.7782\n",
      "-------------------------\n",
      "K = 6:\n",
      "Accuracy: 0.7667\n",
      "-------------------------\n",
      "K = 7:\n",
      "Accuracy: 0.7797\n",
      "-------------------------\n",
      "K = 8:\n",
      "Accuracy: 0.7747\n",
      "-------------------------\n",
      "K = 9:\n",
      "Accuracy: 0.7881\n",
      "-------------------------\n",
      "K = 10:\n",
      "Accuracy: 0.7787\n",
      "-------------------------\n",
      "K = 11:\n",
      "Accuracy: 0.7866\n",
      "-------------------------\n",
      "K = 12:\n",
      "Accuracy: 0.7777\n",
      "-------------------------\n",
      "K = 13:\n",
      "Accuracy: 0.7856\n",
      "-------------------------\n",
      "K = 14:\n",
      "Accuracy: 0.7876\n",
      "-------------------------\n",
      "K = 15:\n",
      "Accuracy: 0.7886\n",
      "-------------------------\n",
      "K = 16:\n",
      "Accuracy: 0.7846\n",
      "-------------------------\n",
      "K = 17:\n",
      "Accuracy: 0.7911\n",
      "-------------------------\n",
      "K = 18:\n",
      "Accuracy: 0.7846\n",
      "-------------------------\n",
      "K = 19:\n",
      "Accuracy: 0.7876\n",
      "-------------------------\n",
      "K = 20:\n",
      "Accuracy: 0.7841\n",
      "-------------------------\n",
      "K = 21:\n",
      "Accuracy: 0.7856\n",
      "-------------------------\n",
      "K = 22:\n",
      "Accuracy: 0.7856\n",
      "-------------------------\n",
      "K = 23:\n",
      "Accuracy: 0.7846\n",
      "-------------------------\n",
      "K = 24:\n",
      "Accuracy: 0.7851\n",
      "-------------------------\n",
      "K = 25:\n",
      "Accuracy: 0.7866\n",
      "-------------------------\n",
      "K = 26:\n",
      "Accuracy: 0.7866\n",
      "-------------------------\n",
      "K = 27:\n",
      "Accuracy: 0.7866\n",
      "-------------------------\n",
      "K = 28:\n",
      "Accuracy: 0.7851\n",
      "-------------------------\n",
      "K = 29:\n",
      "Accuracy: 0.7866\n",
      "-------------------------\n",
      "K = 30:\n",
      "Accuracy: 0.7836\n",
      "-------------------------\n",
      "K = 31:\n",
      "Accuracy: 0.7871\n",
      "-------------------------\n",
      "K = 32:\n",
      "Accuracy: 0.7866\n",
      "-------------------------\n",
      "K = 33:\n",
      "Accuracy: 0.7861\n",
      "-------------------------\n",
      "K = 34:\n",
      "Accuracy: 0.7896\n",
      "-------------------------\n",
      "K = 35:\n",
      "Accuracy: 0.7846\n",
      "-------------------------\n",
      "K = 36:\n",
      "Accuracy: 0.7822\n",
      "-------------------------\n",
      "K = 37:\n",
      "Accuracy: 0.7827\n",
      "-------------------------\n",
      "K = 38:\n",
      "Accuracy: 0.7802\n",
      "-------------------------\n",
      "K = 39:\n",
      "Accuracy: 0.7827\n",
      "-------------------------\n",
      "K = 40:\n",
      "Accuracy: 0.7851\n",
      "-------------------------\n",
      "K = 41:\n",
      "Accuracy: 0.7866\n",
      "-------------------------\n",
      "K = 42:\n",
      "Accuracy: 0.7846\n",
      "-------------------------\n",
      "K = 43:\n",
      "Accuracy: 0.7802\n",
      "-------------------------\n",
      "K = 44:\n",
      "Accuracy: 0.7772\n",
      "-------------------------\n",
      "K = 45:\n",
      "Accuracy: 0.7797\n",
      "-------------------------\n",
      "K = 46:\n",
      "Accuracy: 0.7822\n",
      "-------------------------\n",
      "K = 47:\n",
      "Accuracy: 0.7822\n",
      "-------------------------\n",
      "K = 48:\n",
      "Accuracy: 0.7822\n",
      "-------------------------\n",
      "K = 49:\n",
      "Accuracy: 0.7792\n",
      "-------------------------\n",
      "K = 50:\n",
      "Accuracy: 0.7792\n",
      "-------------------------\n",
      "K = 51:\n",
      "Accuracy: 0.7827\n",
      "-------------------------\n",
      "K = 52:\n",
      "Accuracy: 0.7797\n",
      "-------------------------\n",
      "K = 53:\n",
      "Accuracy: 0.7827\n",
      "-------------------------\n",
      "K = 54:\n",
      "Accuracy: 0.7797\n",
      "-------------------------\n",
      "K = 55:\n",
      "Accuracy: 0.7832\n",
      "-------------------------\n",
      "K = 56:\n",
      "Accuracy: 0.7812\n",
      "-------------------------\n",
      "K = 57:\n",
      "Accuracy: 0.7832\n",
      "-------------------------\n",
      "K = 58:\n",
      "Accuracy: 0.7817\n",
      "-------------------------\n",
      "K = 59:\n",
      "Accuracy: 0.7822\n",
      "-------------------------\n",
      "K = 60:\n",
      "Accuracy: 0.7807\n",
      "-------------------------\n",
      "K = 61:\n",
      "Accuracy: 0.7846\n",
      "-------------------------\n",
      "K = 62:\n",
      "Accuracy: 0.7836\n",
      "-------------------------\n",
      "K = 63:\n",
      "Accuracy: 0.7812\n",
      "-------------------------\n",
      "K = 64:\n",
      "Accuracy: 0.7797\n",
      "-------------------------\n",
      "K = 65:\n",
      "Accuracy: 0.7807\n",
      "-------------------------\n",
      "K = 66:\n",
      "Accuracy: 0.7792\n",
      "-------------------------\n",
      "K = 67:\n",
      "Accuracy: 0.7797\n",
      "-------------------------\n",
      "K = 68:\n",
      "Accuracy: 0.7797\n",
      "-------------------------\n",
      "K = 69:\n",
      "Accuracy: 0.7782\n",
      "-------------------------\n",
      "K = 70:\n",
      "Accuracy: 0.7797\n",
      "-------------------------\n",
      "K = 71:\n",
      "Accuracy: 0.7772\n",
      "-------------------------\n",
      "K = 72:\n",
      "Accuracy: 0.7782\n",
      "-------------------------\n",
      "K = 73:\n",
      "Accuracy: 0.7797\n",
      "-------------------------\n",
      "K = 74:\n",
      "Accuracy: 0.7787\n",
      "-------------------------\n",
      "K = 75:\n",
      "Accuracy: 0.7797\n",
      "-------------------------\n",
      "K = 76:\n",
      "Accuracy: 0.7782\n",
      "-------------------------\n",
      "K = 77:\n",
      "Accuracy: 0.7782\n",
      "-------------------------\n",
      "K = 78:\n",
      "Accuracy: 0.7757\n",
      "-------------------------\n",
      "K = 79:\n",
      "Accuracy: 0.7767\n",
      "-------------------------\n",
      "K = 80:\n",
      "Accuracy: 0.7772\n",
      "-------------------------\n",
      "K = 81:\n",
      "Accuracy: 0.7802\n",
      "-------------------------\n",
      "K = 82:\n",
      "Accuracy: 0.7777\n",
      "-------------------------\n",
      "K = 83:\n",
      "Accuracy: 0.7777\n",
      "-------------------------\n",
      "K = 84:\n",
      "Accuracy: 0.7787\n",
      "-------------------------\n",
      "K = 85:\n",
      "Accuracy: 0.7767\n",
      "-------------------------\n",
      "K = 86:\n",
      "Accuracy: 0.7772\n",
      "-------------------------\n",
      "K = 87:\n",
      "Accuracy: 0.7777\n",
      "-------------------------\n",
      "K = 88:\n",
      "Accuracy: 0.7762\n",
      "-------------------------\n",
      "K = 89:\n",
      "Accuracy: 0.7792\n",
      "-------------------------\n",
      "K = 90:\n",
      "Accuracy: 0.7772\n",
      "-------------------------\n",
      "K = 91:\n",
      "Accuracy: 0.7777\n",
      "-------------------------\n",
      "K = 92:\n",
      "Accuracy: 0.7757\n",
      "-------------------------\n",
      "K = 93:\n",
      "Accuracy: 0.7772\n",
      "-------------------------\n",
      "K = 94:\n",
      "Accuracy: 0.7752\n",
      "-------------------------\n",
      "K = 95:\n",
      "Accuracy: 0.7762\n",
      "-------------------------\n",
      "K = 96:\n",
      "Accuracy: 0.7747\n",
      "-------------------------\n",
      "K = 97:\n",
      "Accuracy: 0.7737\n",
      "-------------------------\n",
      "K = 98:\n",
      "Accuracy: 0.7717\n",
      "-------------------------\n",
      "K = 99:\n",
      "Accuracy: 0.7727\n",
      "-------------------------\n",
      "K = 100:\n",
      "Accuracy: 0.7727\n",
      "-------------------------\n",
      "K = 101:\n",
      "Accuracy: 0.7722\n",
      "-------------------------\n",
      "K = 102:\n",
      "Accuracy: 0.7707\n",
      "-------------------------\n",
      "K = 103:\n",
      "Accuracy: 0.7742\n",
      "-------------------------\n",
      "K = 104:\n",
      "Accuracy: 0.7707\n",
      "-------------------------\n",
      "K = 105:\n",
      "Accuracy: 0.7722\n",
      "-------------------------\n",
      "K = 106:\n",
      "Accuracy: 0.7702\n",
      "-------------------------\n",
      "K = 107:\n",
      "Accuracy: 0.7722\n",
      "-------------------------\n",
      "K = 108:\n",
      "Accuracy: 0.7697\n",
      "-------------------------\n",
      "K = 109:\n",
      "Accuracy: 0.7747\n",
      "-------------------------\n",
      "K = 110:\n",
      "Accuracy: 0.7702\n",
      "-------------------------\n",
      "K = 111:\n",
      "Accuracy: 0.7722\n",
      "-------------------------\n",
      "K = 112:\n",
      "Accuracy: 0.7712\n",
      "-------------------------\n",
      "K = 113:\n",
      "Accuracy: 0.7712\n",
      "-------------------------\n",
      "K = 114:\n",
      "Accuracy: 0.7692\n",
      "-------------------------\n",
      "K = 115:\n",
      "Accuracy: 0.7682\n",
      "-------------------------\n"
     ]
    }
   ],
   "source": [
    "for result in results:\n",
    "    print(f\"K = {result['K']}:\")\n",
    "    print(f\"Accuracy: {result['Accuracy']:.4f}\")\n",
    "    #print(f\"Recall: {result['Recall']:.2f}\")\n",
    "    #print(f\"F1-Score: {result['F1-Score']:.2f}\")\n",
    "    #print(\"Confusion Matrix:\\n\", result['Confusion Matrix'])\n",
    "    print(\"-\" * 25)\n"
   ]
  },
  {
   "cell_type": "markdown",
   "metadata": {},
   "source": [
    "Find the best K value based on accuracy."
   ]
  },
  {
   "cell_type": "code",
   "execution_count": 147,
   "metadata": {},
   "outputs": [
    {
     "name": "stdout",
     "output_type": "stream",
     "text": [
      "Best K value: K = 17\n"
     ]
    }
   ],
   "source": [
    "best_result = max(results, key=lambda x: x['Accuracy'])\n",
    "best_k = best_result['K']\n",
    "\n",
    "print(f\"Best K value: K = {best_k}\")\n"
   ]
  },
  {
   "cell_type": "markdown",
   "metadata": {},
   "source": [
    "Evaluate the model with the best K value "
   ]
  },
  {
   "cell_type": "code",
   "execution_count": 148,
   "metadata": {},
   "outputs": [
    {
     "data": {
      "text/html": [
       "<style>#sk-container-id-11 {color: black;}#sk-container-id-11 pre{padding: 0;}#sk-container-id-11 div.sk-toggleable {background-color: white;}#sk-container-id-11 label.sk-toggleable__label {cursor: pointer;display: block;width: 100%;margin-bottom: 0;padding: 0.3em;box-sizing: border-box;text-align: center;}#sk-container-id-11 label.sk-toggleable__label-arrow:before {content: \"▸\";float: left;margin-right: 0.25em;color: #696969;}#sk-container-id-11 label.sk-toggleable__label-arrow:hover:before {color: black;}#sk-container-id-11 div.sk-estimator:hover label.sk-toggleable__label-arrow:before {color: black;}#sk-container-id-11 div.sk-toggleable__content {max-height: 0;max-width: 0;overflow: hidden;text-align: left;background-color: #f0f8ff;}#sk-container-id-11 div.sk-toggleable__content pre {margin: 0.2em;color: black;border-radius: 0.25em;background-color: #f0f8ff;}#sk-container-id-11 input.sk-toggleable__control:checked~div.sk-toggleable__content {max-height: 200px;max-width: 100%;overflow: auto;}#sk-container-id-11 input.sk-toggleable__control:checked~label.sk-toggleable__label-arrow:before {content: \"▾\";}#sk-container-id-11 div.sk-estimator input.sk-toggleable__control:checked~label.sk-toggleable__label {background-color: #d4ebff;}#sk-container-id-11 div.sk-label input.sk-toggleable__control:checked~label.sk-toggleable__label {background-color: #d4ebff;}#sk-container-id-11 input.sk-hidden--visually {border: 0;clip: rect(1px 1px 1px 1px);clip: rect(1px, 1px, 1px, 1px);height: 1px;margin: -1px;overflow: hidden;padding: 0;position: absolute;width: 1px;}#sk-container-id-11 div.sk-estimator {font-family: monospace;background-color: #f0f8ff;border: 1px dotted black;border-radius: 0.25em;box-sizing: border-box;margin-bottom: 0.5em;}#sk-container-id-11 div.sk-estimator:hover {background-color: #d4ebff;}#sk-container-id-11 div.sk-parallel-item::after {content: \"\";width: 100%;border-bottom: 1px solid gray;flex-grow: 1;}#sk-container-id-11 div.sk-label:hover label.sk-toggleable__label {background-color: #d4ebff;}#sk-container-id-11 div.sk-serial::before {content: \"\";position: absolute;border-left: 1px solid gray;box-sizing: border-box;top: 0;bottom: 0;left: 50%;z-index: 0;}#sk-container-id-11 div.sk-serial {display: flex;flex-direction: column;align-items: center;background-color: white;padding-right: 0.2em;padding-left: 0.2em;position: relative;}#sk-container-id-11 div.sk-item {position: relative;z-index: 1;}#sk-container-id-11 div.sk-parallel {display: flex;align-items: stretch;justify-content: center;background-color: white;position: relative;}#sk-container-id-11 div.sk-item::before, #sk-container-id-11 div.sk-parallel-item::before {content: \"\";position: absolute;border-left: 1px solid gray;box-sizing: border-box;top: 0;bottom: 0;left: 50%;z-index: -1;}#sk-container-id-11 div.sk-parallel-item {display: flex;flex-direction: column;z-index: 1;position: relative;background-color: white;}#sk-container-id-11 div.sk-parallel-item:first-child::after {align-self: flex-end;width: 50%;}#sk-container-id-11 div.sk-parallel-item:last-child::after {align-self: flex-start;width: 50%;}#sk-container-id-11 div.sk-parallel-item:only-child::after {width: 0;}#sk-container-id-11 div.sk-dashed-wrapped {border: 1px dashed gray;margin: 0 0.4em 0.5em 0.4em;box-sizing: border-box;padding-bottom: 0.4em;background-color: white;}#sk-container-id-11 div.sk-label label {font-family: monospace;font-weight: bold;display: inline-block;line-height: 1.2em;}#sk-container-id-11 div.sk-label-container {text-align: center;}#sk-container-id-11 div.sk-container {/* jupyter's `normalize.less` sets `[hidden] { display: none; }` but bootstrap.min.css set `[hidden] { display: none !important; }` so we also need the `!important` here to be able to override the default hidden behavior on the sphinx rendered scikit-learn.org. See: https://github.com/scikit-learn/scikit-learn/issues/21755 */display: inline-block !important;position: relative;}#sk-container-id-11 div.sk-text-repr-fallback {display: none;}</style><div id=\"sk-container-id-11\" class=\"sk-top-container\"><div class=\"sk-text-repr-fallback\"><pre>KNeighborsClassifier(n_neighbors=17)</pre><b>In a Jupyter environment, please rerun this cell to show the HTML representation or trust the notebook. <br />On GitHub, the HTML representation is unable to render, please try loading this page with nbviewer.org.</b></div><div class=\"sk-container\" hidden><div class=\"sk-item\"><div class=\"sk-estimator sk-toggleable\"><input class=\"sk-toggleable__control sk-hidden--visually\" id=\"sk-estimator-id-11\" type=\"checkbox\" checked><label for=\"sk-estimator-id-11\" class=\"sk-toggleable__label sk-toggleable__label-arrow\">KNeighborsClassifier</label><div class=\"sk-toggleable__content\"><pre>KNeighborsClassifier(n_neighbors=17)</pre></div></div></div></div></div>"
      ],
      "text/plain": [
       "KNeighborsClassifier(n_neighbors=17)"
      ]
     },
     "execution_count": 148,
     "metadata": {},
     "output_type": "execute_result"
    }
   ],
   "source": [
    "best_knn = KNeighborsClassifier(n_neighbors=best_k)\n",
    "best_knn.fit(X_train, y_train)"
   ]
  },
  {
   "cell_type": "markdown",
   "metadata": {},
   "source": [
    "calculate test_accuracy test_precision ,test_recall ,test_f1 ,test_cm on test set with best k"
   ]
  },
  {
   "cell_type": "code",
   "execution_count": 149,
   "metadata": {},
   "outputs": [],
   "source": [
    "y_pred_test = best_knn.predict(X_test)\n",
    "\n",
    "test_accuracy = accuracy_score(y_test, y_pred_test)\n",
    "test_precision = precision_score(y_test, y_pred_test, average='weighted')\n",
    "test_recall = recall_score(y_test, y_pred_test, average='weighted')\n",
    "test_f1 = f1_score(y_test, y_pred_test, average='weighted')\n",
    "test_cm = confusion_matrix(y_test, y_pred_test)"
   ]
  },
  {
   "cell_type": "markdown",
   "metadata": {},
   "source": [
    "Print the test set results for the best K value"
   ]
  },
  {
   "cell_type": "code",
   "execution_count": 150,
   "metadata": {},
   "outputs": [
    {
     "name": "stdout",
     "output_type": "stream",
     "text": [
      "Test Set Results for Best K:\n",
      "Accuracy: 0.77\n",
      "Precision: 0.78\n",
      "Recall: 0.77\n",
      "F1-Score: 0.77\n",
      "Confusion Matrix:\n",
      " [[873 137]\n",
      " [318 679]]\n"
     ]
    }
   ],
   "source": [
    "print(\"Test Set Results for Best K:\")\n",
    "print(f\"Accuracy: {test_accuracy:.2f}\")\n",
    "print(f\"Precision: {test_precision:.2f}\")\n",
    "print(f\"Recall: {test_recall:.2f}\")\n",
    "print(f\"F1-Score: {test_f1:.2f}\")\n",
    "print(\"Confusion Matrix:\\n\", test_cm)"
   ]
  },
  {
   "cell_type": "markdown",
   "metadata": {},
   "source": [
    "calculate test_accuracy test_precision ,test_recall ,test_f1 ,test_cm on validate set with best k"
   ]
  },
  {
   "cell_type": "code",
   "execution_count": 151,
   "metadata": {},
   "outputs": [],
   "source": [
    "\n",
    "y_pred_val = best_knn.predict(X_val)\n",
    "\n",
    "val_accuracy = accuracy_score(y_val, y_pred_val)\n",
    "val_precision = precision_score(y_val, y_pred_val, average='weighted')\n",
    "val_recall = recall_score(y_val, y_pred_val, average='weighted')\n",
    "val_f1 = f1_score(y_val, y_pred_val, average='weighted')\n",
    "val_cm = confusion_matrix(y_val, y_pred_val)"
   ]
  },
  {
   "cell_type": "code",
   "execution_count": 152,
   "metadata": {},
   "outputs": [
    {
     "name": "stdout",
     "output_type": "stream",
     "text": [
      "validate Set Results for Best K:\n",
      "Accuracy: 0.79\n",
      "Precision: 0.80\n",
      "Recall: 0.79\n",
      "F1-Score: 0.79\n",
      "Confusion Matrix:\n",
      " [[904 110]\n",
      " [309 683]]\n"
     ]
    }
   ],
   "source": [
    "print(\"validate Set Results for Best K:\")\n",
    "print(f\"Accuracy: {val_accuracy:.2f}\")\n",
    "print(f\"Precision: {val_precision:.2f}\")\n",
    "print(f\"Recall: {val_recall:.2f}\")\n",
    "print(f\"F1-Score: {val_f1:.2f}\")\n",
    "print(\"Confusion Matrix:\\n\", val_cm)"
   ]
  },
  {
   "cell_type": "markdown",
   "metadata": {},
   "source": [
    "calculate test_accuracy test_precision ,test_recall ,test_f1 ,test_cm on train set with best k"
   ]
  },
  {
   "cell_type": "code",
   "execution_count": 153,
   "metadata": {},
   "outputs": [],
   "source": [
    "\n",
    "y_pred_train = best_knn.predict(X_train)\n",
    "\n",
    "train_accuracy = accuracy_score(y_train, y_pred_train)\n",
    "train_precision = precision_score(y_train, y_pred_train, average='weighted')\n",
    "train_recall = recall_score(y_train, y_pred_train, average='weighted')\n",
    "train_f1 = f1_score(y_train, y_pred_train, average='weighted')\n",
    "train_cm = confusion_matrix(y_train, y_pred_train)"
   ]
  },
  {
   "cell_type": "code",
   "execution_count": 154,
   "metadata": {},
   "outputs": [
    {
     "name": "stdout",
     "output_type": "stream",
     "text": [
      "train Set Results for Best K:\n",
      "Accuracy: 0.79\n",
      "Precision: 0.80\n",
      "Recall: 0.79\n",
      "F1-Score: 0.79\n",
      "Confusion Matrix:\n",
      " [[4120  544]\n",
      " [1400 3299]]\n"
     ]
    }
   ],
   "source": [
    "print(\"train Set Results for Best K:\")\n",
    "print(f\"Accuracy: {train_accuracy:.2f}\")\n",
    "print(f\"Precision: {train_precision:.2f}\")\n",
    "print(f\"Recall: {train_recall:.2f}\")\n",
    "print(f\"F1-Score: {train_f1:.2f}\")\n",
    "print(\"Confusion Matrix:\\n\", train_cm)"
   ]
  }
 ],
 "metadata": {
  "kernelspec": {
   "display_name": "Python 3",
   "language": "python",
   "name": "python3"
  },
  "language_info": {
   "codemirror_mode": {
    "name": "ipython",
    "version": 3
   },
   "file_extension": ".py",
   "mimetype": "text/x-python",
   "name": "python",
   "nbconvert_exporter": "python",
   "pygments_lexer": "ipython3",
   "version": "3.11.2"
  }
 },
 "nbformat": 4,
 "nbformat_minor": 2
}
